{
  "nbformat": 4,
  "nbformat_minor": 0,
  "metadata": {
    "colab": {
      "provenance": [],
      "authorship_tag": "ABX9TyPOctgj+yG+Z3V01j83pNuz",
      "include_colab_link": true
    },
    "kernelspec": {
      "name": "python3",
      "display_name": "Python 3"
    },
    "language_info": {
      "name": "python"
    }
  },
  "cells": [
    {
      "cell_type": "markdown",
      "metadata": {
        "id": "view-in-github",
        "colab_type": "text"
      },
      "source": [
        "<a href=\"https://colab.research.google.com/github/shan-benny/phython/blob/main/practice.ipynb\" target=\"_parent\"><img src=\"https://colab.research.google.com/assets/colab-badge.svg\" alt=\"Open In Colab\"/></a>"
      ]
    },
    {
      "cell_type": "code",
      "execution_count": 13,
      "metadata": {
        "colab": {
          "base_uri": "https://localhost:8080/"
        },
        "id": "BxQxnJD0-pyx",
        "outputId": "ab0e9b00-af4e-4a3e-af49-3b57eb243647"
      },
      "outputs": [
        {
          "output_type": "stream",
          "name": "stdout",
          "text": [
            "the value of a is 10 and b is 20\n",
            "the value of a is 20 and b is 10\n"
          ]
        }
      ],
      "source": [
        "a=10\n",
        "b=20\n",
        "print(\"the value of a is {0} and b is {1}\".format(a,b))\n",
        "print(\"the value of a is {1} and b is {0}\".format(a,b))"
      ]
    },
    {
      "cell_type": "code",
      "source": [
        "r=int(input('enter the radius :'))\n",
        "area=3.14*r*r\n",
        "print(f\"the area of circle is{area}\")"
      ],
      "metadata": {
        "colab": {
          "base_uri": "https://localhost:8080/"
        },
        "id": "qeSQ8oI6_Eqs",
        "outputId": "be926368-1118-4ada-868f-ac9169057519"
      },
      "execution_count": 20,
      "outputs": [
        {
          "output_type": "stream",
          "name": "stdout",
          "text": [
            "enter the radius :12\n",
            "the area of circle is452.15999999999997\n"
          ]
        }
      ]
    },
    {
      "cell_type": "code",
      "source": [
        "a=int(input('enter the number'))\n",
        "if a % 2 == 0:\n",
        "  print(f\"{a} is even\")\n",
        "else:\n",
        "  print(f\"{a} is odd\")"
      ],
      "metadata": {
        "colab": {
          "base_uri": "https://localhost:8080/"
        },
        "id": "LMFIkMZPC3oP",
        "outputId": "8a096f6a-7c92-48bd-df9a-f52ef450c985"
      },
      "execution_count": 34,
      "outputs": [
        {
          "output_type": "stream",
          "name": "stdout",
          "text": [
            "enter the number301\n",
            "301 is odd\n"
          ]
        }
      ]
    },
    {
      "cell_type": "code",
      "source": [
        "abc=range(11)\n",
        "for i in abc:\n",
        " print(f\"{i} is a number  \")"
      ],
      "metadata": {
        "colab": {
          "base_uri": "https://localhost:8080/"
        },
        "id": "Qt0iLBm7F84D",
        "outputId": "13d1fa40-c427-40a6-8d55-908f39d8ade7"
      },
      "execution_count": 41,
      "outputs": [
        {
          "output_type": "stream",
          "name": "stdout",
          "text": [
            "0 is a number  \n",
            "1 is a number  \n",
            "2 is a number  \n",
            "3 is a number  \n",
            "4 is a number  \n",
            "5 is a number  \n",
            "6 is a number  \n",
            "7 is a number  \n",
            "8 is a number  \n",
            "9 is a number  \n"
          ]
        }
      ]
    },
    {
      "cell_type": "code",
      "source": [],
      "metadata": {
        "id": "XYqCfNtMHxsz"
      },
      "execution_count": null,
      "outputs": []
    }
  ]
}